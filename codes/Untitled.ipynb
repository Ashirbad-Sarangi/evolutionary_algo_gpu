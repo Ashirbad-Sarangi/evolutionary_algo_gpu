{
 "cells": [
  {
   "cell_type": "code",
   "execution_count": null,
   "id": "b3b4eb3f-0f05-48b4-b973-d7d3341ac936",
   "metadata": {},
   "outputs": [],
   "source": [
    "import numba"
   ]
  }
 ],
 "metadata": {
  "kernelspec": {
   "display_name": "Python 3 (ipykernel)",
   "language": "python",
   "name": "python3"
  },
  "language_info": {
   "codemirror_mode": {
    "name": "ipython",
    "version": 3
   },
   "file_extension": ".py",
   "mimetype": "text/x-python",
   "name": "python",
   "nbconvert_exporter": "python",
   "pygments_lexer": "ipython3",
   "version": "3.10.12"
  }
 },
 "nbformat": 4,
 "nbformat_minor": 5
}
